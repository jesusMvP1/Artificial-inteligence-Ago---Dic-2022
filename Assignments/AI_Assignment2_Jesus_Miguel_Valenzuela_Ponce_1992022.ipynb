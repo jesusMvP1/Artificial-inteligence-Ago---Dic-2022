{
  "cells": [
    {
      "cell_type": "markdown",
      "metadata": {
        "id": "0RfIa2-wmdJA"
      },
      "source": [
        "# **# Python Exercises\n",
        "\n",
        "Jesús Miguel Valenzuela Ponce 1992022 Thursdays 7:15 N4"
      ]
    },
    {
      "cell_type": "markdown",
      "metadata": {
        "id": "GzRqTrp76Rej"
      },
      "source": []
    },
    {
      "cell_type": "code",
      "execution_count": 61,
      "metadata": {
        "colab": {
          "base_uri": "https://localhost:8080/"
        },
        "id": "e-1BxrR96RSv",
        "outputId": "49b3e0ba-a8d6-4fe6-bb84-5cbaefd8eb09"
      },
      "outputs": [
        {
          "output_type": "stream",
          "name": "stdout",
          "text": [
            "What is your name?\n",
            "Miguel\n",
            "Hello Miguel\n"
          ]
        }
      ],
      "source": [
        "print(\"What is your name?\")\n",
        "name = input()\n",
        "if (name == \"Ana\" and \"john\" and \"peter\"):\n",
        "  print(\"Goodbye\")\n",
        "else:\n",
        "  print(\"Hello \" + name)"
      ]
    },
    {
      "cell_type": "code",
      "source": [
        "print(\"What is your name?\")\n",
        "name = input()\n",
        "if (name == \"Ana\" and \"john\" and \"peter\"):\n",
        "  print(\"Goodbye\")\n",
        "else:\n",
        "  print(\"Hello \" + name)"
      ],
      "metadata": {
        "colab": {
          "base_uri": "https://localhost:8080/"
        },
        "id": "MdSZjzOazNqI",
        "outputId": "e69a9545-de65-4899-b45f-95f81fca272d"
      },
      "execution_count": 62,
      "outputs": [
        {
          "output_type": "stream",
          "name": "stdout",
          "text": [
            "What is your name?\n",
            "Ana\n",
            "Goodbye\n"
          ]
        }
      ]
    },
    {
      "cell_type": "code",
      "source": [
        "\n",
        "print(\"What is your name?\")\n",
        "name = input()\n",
        "if (name == \"Ana\" and \"john\" and \"peter\"):\n",
        "  print(\"Goodbye\")\n",
        "else:\n",
        "  print(\"Hello \" + name)"
      ],
      "metadata": {
        "colab": {
          "base_uri": "https://localhost:8080/"
        },
        "id": "XAe89nCSzSED",
        "outputId": "49b873b3-b5af-4dc0-8ddb-af05990c2b14"
      },
      "execution_count": 63,
      "outputs": [
        {
          "output_type": "stream",
          "name": "stdout",
          "text": [
            "What is your name?\n",
            "john\n",
            "Hello john\n"
          ]
        }
      ]
    },
    {
      "cell_type": "code",
      "source": [
        "\n",
        "print(\"What is your name?\")\n",
        "name = input()\n",
        "if (name == \"Ana\" and \"john\" and \"peter\"):\n",
        "  print(\"Goodbye\")\n",
        "else:\n",
        "  print(\"Hello \" + name)"
      ],
      "metadata": {
        "colab": {
          "base_uri": "https://localhost:8080/"
        },
        "id": "qk4X2KX1zS7s",
        "outputId": "83f7f07c-4989-42f0-8f41-2231484dabb2"
      },
      "execution_count": 64,
      "outputs": [
        {
          "output_type": "stream",
          "name": "stdout",
          "text": [
            "What is your name?\n",
            "peter\n",
            "Hello peter\n"
          ]
        }
      ]
    },
    {
      "cell_type": "code",
      "execution_count": 66,
      "metadata": {
        "colab": {
          "base_uri": "https://localhost:8080/"
        },
        "id": "KD4M-Fk2_VQ-",
        "outputId": "585ada63-4a98-4beb-90ab-a97ae402ab59"
      },
      "outputs": [
        {
          "output_type": "stream",
          "name": "stdout",
          "text": [
            "Input lenght of the list\n",
            "3\n",
            "Add elements:\n",
            "Queso\n",
            "Jamón\n",
            "Limon\n",
            "Print last element:\n",
            "Limon\n",
            "Print reverse last  element:\n",
            "Queso\n",
            "Print The whole list:\n",
            "['Limon', 'Jamón', 'Queso']\n"
          ]
        }
      ],
      "source": [
        "\n",
        "print(\"Input lenght of the list\")\n",
        "n= int(input())\n",
        "newlist = []\n",
        "print(\"Add elements:\")\n",
        "for x in range(n):\n",
        "  ins = input()\n",
        "  newlist.append(ins)\n",
        "print(\"Print last element:\")\n",
        "print(newlist[n-1])\n",
        "newlist.reverse()\n",
        "print(\"Print reverse last  element:\")\n",
        "print(newlist[n-1])\n",
        "print(\"Print The whole list:\")\n",
        "print(newlist)\n",
        "\n"
      ]
    },
    {
      "cell_type": "code",
      "source": [
        "print(\"Input lenght of the list\")\n",
        "n= int(input())\n",
        "newlist = []\n",
        "print(\"Add elements:\")\n",
        "for x in range(n):\n",
        "  ins = input()\n",
        "  newlist.append(ins)\n",
        "def frame(list):\n",
        "  col = (len(max(newlist,key=len)))\n",
        "  row = n\n",
        "  print(\"*\" * (col +2))\n",
        "  for x in range (n):\n",
        "    print(\"*\" + newlist[x] +\" \"*(col-(len(newlist[x]))) + \"*\")\n",
        "  print(\"*\" * (col + 2))\n",
        "print(frame(newlist))\n",
        "\n",
        "\n",
        "\n",
        "\n",
        "\n"
      ],
      "metadata": {
        "colab": {
          "base_uri": "https://localhost:8080/"
        },
        "id": "aNEb7IN-oEot",
        "outputId": "419caaa7-67a0-4378-acd1-f3cf9d9e38c8"
      },
      "execution_count": 67,
      "outputs": [
        {
          "output_type": "stream",
          "name": "stdout",
          "text": [
            "Input lenght of the list\n",
            "4\n",
            "Add elements:\n",
            "My\n",
            "Name\n",
            "Is\n",
            "Jesús\n",
            "*******\n",
            "*My   *\n",
            "*Name *\n",
            "*Is   *\n",
            "*Jesús*\n",
            "*******\n",
            "None\n"
          ]
        }
      ]
    }
  ],
  "metadata": {
    "colab": {
      "provenance": []
    },
    "kernelspec": {
      "display_name": "Python 3",
      "name": "python3"
    },
    "language_info": {
      "name": "python"
    }
  },
  "nbformat": 4,
  "nbformat_minor": 0
}